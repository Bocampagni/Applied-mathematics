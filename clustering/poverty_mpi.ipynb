{
  "nbformat": 4,
  "nbformat_minor": 0,
  "metadata": {
    "colab": {
      "provenance": [],
      "include_colab_link": true
    },
    "kernelspec": {
      "name": "python3",
      "display_name": "Python 3"
    },
    "language_info": {
      "name": "python"
    }
  },
  "cells": [
    {
      "cell_type": "markdown",
      "metadata": {
        "id": "view-in-github",
        "colab_type": "text"
      },
      "source": [
        "<a href=\"https://colab.research.google.com/github/Bocampagni/Applied-mathematics/blob/master/clustering/poverty_mpi.ipynb\" target=\"_parent\"><img src=\"https://colab.research.google.com/assets/colab-badge.svg\" alt=\"Open In Colab\"/></a>"
      ]
    },
    {
      "cell_type": "markdown",
      "source": [
        "# Applying mathematical analyses in order to make a MPI.\n",
        "\n",
        "Fábio Alves Bocampagni,\n",
        "David Rodrigues Albuquerque\n",
        "\n",
        "\n",
        "What is the Multidimensional Poverty Measure? An index that captures the percentage of households in a country deprived along three dimensions of well-being – monetary poverty, education, and basic infrastructure services – to provide a more complete picture of poverty."
      ],
      "metadata": {
        "id": "M7pKhD42BUne"
      }
    },
    {
      "cell_type": "code",
      "source": [
        "import numpy as np\n",
        "import matplotlib.pyplot as plt\n",
        "import pandas as pd\n",
        "\n",
        "data = pd.read_csv(\"/content/base_amostra_pessoa_201812.csv\")\n",
        "\n",
        "#Creating a sampling sub group, to gather only information that will be used.\n",
        "\n",
        "cad_unico = data[['id_familia', 'id_pessoa',\n",
        "                  'cod_sexo_pessoa',\n",
        "                  'idade',\n",
        "                  'cod_raca_cor_pessoa',\n",
        "                  'cod_deficiencia_memb',\n",
        "                  'cod_sabe_ler_escrever_memb',\n",
        "                  'cod_curso_frequentou_pessoa_memb',\n",
        "                  'val_renda_bruta_12_meses_memb',\n",
        "                  'cod_principal_trab_memb',\n",
        "                  'val_remuner_emprego_memb',\n",
        "                  'classf',\n",
        "                  ]].copy()\n",
        "\n",
        "#Avoiding null values in important fields\n",
        "cad_unico = cad_unico.dropna(how='any',axis=0) \n",
        "\n",
        "cad_unico\n"
      ],
      "metadata": {
        "colab": {
          "base_uri": "https://localhost:8080/",
          "height": 488
        },
        "id": "Yi7jSPpBChya",
        "outputId": "5f3ac879-6789-4aa1-cc7d-f71fd6d30976"
      },
      "execution_count": null,
      "outputs": [
        {
          "output_type": "execute_result",
          "data": {
            "text/plain": [
              "         id_familia  id_pessoa  cod_sexo_pessoa  idade  cod_raca_cor_pessoa  \\\n",
              "0         1555504.0        1.0                2     44                  1.0   \n",
              "6         4963019.0        7.0                2     35                  4.0   \n",
              "7         3407990.0        8.0                2     27                  2.0   \n",
              "15          69894.0       16.0                2     17                  1.0   \n",
              "21        2565641.0       22.0                2     36                  1.0   \n",
              "...             ...        ...              ...    ...                  ...   \n",
              "1048551   2353117.0  1048552.0                1     30                  2.0   \n",
              "1048553    965404.0  1048554.0                1     41                  1.0   \n",
              "1048560    268166.0  1048561.0                1     29                  4.0   \n",
              "1048564   4345055.0  1048565.0                2     45                  1.0   \n",
              "1048574    985523.0  1048575.0                2     44                  4.0   \n",
              "\n",
              "         cod_deficiencia_memb  cod_sabe_ler_escrever_memb  \\\n",
              "0                           2                         1.0   \n",
              "6                           2                         1.0   \n",
              "7                           2                         1.0   \n",
              "15                          2                         1.0   \n",
              "21                          2                         1.0   \n",
              "...                       ...                         ...   \n",
              "1048551                     2                         1.0   \n",
              "1048553                     2                         1.0   \n",
              "1048560                     2                         1.0   \n",
              "1048564                     1                         1.0   \n",
              "1048574                     2                         1.0   \n",
              "\n",
              "         cod_curso_frequentou_pessoa_memb  val_renda_bruta_12_meses_memb  \\\n",
              "0                                     4.0                         3840.0   \n",
              "6                                     5.0                        12564.0   \n",
              "7                                     5.0                         2400.0   \n",
              "15                                    5.0                         1920.0   \n",
              "21                                    4.0                        15600.0   \n",
              "...                                   ...                            ...   \n",
              "1048551                               8.0                         4800.0   \n",
              "1048553                               5.0                         6000.0   \n",
              "1048560                               4.0                        17052.0   \n",
              "1048564                               8.0                         6080.0   \n",
              "1048574                               8.0                         2400.0   \n",
              "\n",
              "         cod_principal_trab_memb  val_remuner_emprego_memb  classf  \n",
              "0                            1.0                     320.0       3  \n",
              "6                            4.0                    1047.0       1  \n",
              "7                            1.0                     200.0       2  \n",
              "15                           1.0                     160.0       2  \n",
              "21                           4.0                    1300.0       3  \n",
              "...                          ...                       ...     ...  \n",
              "1048551                      1.0                     400.0       3  \n",
              "1048553                      1.0                     500.0       3  \n",
              "1048560                      4.0                    1421.0       2  \n",
              "1048564                      1.0                     760.0       1  \n",
              "1048574                      1.0                     400.0       3  \n",
              "\n",
              "[211441 rows x 12 columns]"
            ],
            "text/html": [
              "\n",
              "  <div id=\"df-8c9d4b7c-cd37-4ef2-ab04-d1d5f2149074\">\n",
              "    <div class=\"colab-df-container\">\n",
              "      <div>\n",
              "<style scoped>\n",
              "    .dataframe tbody tr th:only-of-type {\n",
              "        vertical-align: middle;\n",
              "    }\n",
              "\n",
              "    .dataframe tbody tr th {\n",
              "        vertical-align: top;\n",
              "    }\n",
              "\n",
              "    .dataframe thead th {\n",
              "        text-align: right;\n",
              "    }\n",
              "</style>\n",
              "<table border=\"1\" class=\"dataframe\">\n",
              "  <thead>\n",
              "    <tr style=\"text-align: right;\">\n",
              "      <th></th>\n",
              "      <th>id_familia</th>\n",
              "      <th>id_pessoa</th>\n",
              "      <th>cod_sexo_pessoa</th>\n",
              "      <th>idade</th>\n",
              "      <th>cod_raca_cor_pessoa</th>\n",
              "      <th>cod_deficiencia_memb</th>\n",
              "      <th>cod_sabe_ler_escrever_memb</th>\n",
              "      <th>cod_curso_frequentou_pessoa_memb</th>\n",
              "      <th>val_renda_bruta_12_meses_memb</th>\n",
              "      <th>cod_principal_trab_memb</th>\n",
              "      <th>val_remuner_emprego_memb</th>\n",
              "      <th>classf</th>\n",
              "    </tr>\n",
              "  </thead>\n",
              "  <tbody>\n",
              "    <tr>\n",
              "      <th>0</th>\n",
              "      <td>1555504.0</td>\n",
              "      <td>1.0</td>\n",
              "      <td>2</td>\n",
              "      <td>44</td>\n",
              "      <td>1.0</td>\n",
              "      <td>2</td>\n",
              "      <td>1.0</td>\n",
              "      <td>4.0</td>\n",
              "      <td>3840.0</td>\n",
              "      <td>1.0</td>\n",
              "      <td>320.0</td>\n",
              "      <td>3</td>\n",
              "    </tr>\n",
              "    <tr>\n",
              "      <th>6</th>\n",
              "      <td>4963019.0</td>\n",
              "      <td>7.0</td>\n",
              "      <td>2</td>\n",
              "      <td>35</td>\n",
              "      <td>4.0</td>\n",
              "      <td>2</td>\n",
              "      <td>1.0</td>\n",
              "      <td>5.0</td>\n",
              "      <td>12564.0</td>\n",
              "      <td>4.0</td>\n",
              "      <td>1047.0</td>\n",
              "      <td>1</td>\n",
              "    </tr>\n",
              "    <tr>\n",
              "      <th>7</th>\n",
              "      <td>3407990.0</td>\n",
              "      <td>8.0</td>\n",
              "      <td>2</td>\n",
              "      <td>27</td>\n",
              "      <td>2.0</td>\n",
              "      <td>2</td>\n",
              "      <td>1.0</td>\n",
              "      <td>5.0</td>\n",
              "      <td>2400.0</td>\n",
              "      <td>1.0</td>\n",
              "      <td>200.0</td>\n",
              "      <td>2</td>\n",
              "    </tr>\n",
              "    <tr>\n",
              "      <th>15</th>\n",
              "      <td>69894.0</td>\n",
              "      <td>16.0</td>\n",
              "      <td>2</td>\n",
              "      <td>17</td>\n",
              "      <td>1.0</td>\n",
              "      <td>2</td>\n",
              "      <td>1.0</td>\n",
              "      <td>5.0</td>\n",
              "      <td>1920.0</td>\n",
              "      <td>1.0</td>\n",
              "      <td>160.0</td>\n",
              "      <td>2</td>\n",
              "    </tr>\n",
              "    <tr>\n",
              "      <th>21</th>\n",
              "      <td>2565641.0</td>\n",
              "      <td>22.0</td>\n",
              "      <td>2</td>\n",
              "      <td>36</td>\n",
              "      <td>1.0</td>\n",
              "      <td>2</td>\n",
              "      <td>1.0</td>\n",
              "      <td>4.0</td>\n",
              "      <td>15600.0</td>\n",
              "      <td>4.0</td>\n",
              "      <td>1300.0</td>\n",
              "      <td>3</td>\n",
              "    </tr>\n",
              "    <tr>\n",
              "      <th>...</th>\n",
              "      <td>...</td>\n",
              "      <td>...</td>\n",
              "      <td>...</td>\n",
              "      <td>...</td>\n",
              "      <td>...</td>\n",
              "      <td>...</td>\n",
              "      <td>...</td>\n",
              "      <td>...</td>\n",
              "      <td>...</td>\n",
              "      <td>...</td>\n",
              "      <td>...</td>\n",
              "      <td>...</td>\n",
              "    </tr>\n",
              "    <tr>\n",
              "      <th>1048551</th>\n",
              "      <td>2353117.0</td>\n",
              "      <td>1048552.0</td>\n",
              "      <td>1</td>\n",
              "      <td>30</td>\n",
              "      <td>2.0</td>\n",
              "      <td>2</td>\n",
              "      <td>1.0</td>\n",
              "      <td>8.0</td>\n",
              "      <td>4800.0</td>\n",
              "      <td>1.0</td>\n",
              "      <td>400.0</td>\n",
              "      <td>3</td>\n",
              "    </tr>\n",
              "    <tr>\n",
              "      <th>1048553</th>\n",
              "      <td>965404.0</td>\n",
              "      <td>1048554.0</td>\n",
              "      <td>1</td>\n",
              "      <td>41</td>\n",
              "      <td>1.0</td>\n",
              "      <td>2</td>\n",
              "      <td>1.0</td>\n",
              "      <td>5.0</td>\n",
              "      <td>6000.0</td>\n",
              "      <td>1.0</td>\n",
              "      <td>500.0</td>\n",
              "      <td>3</td>\n",
              "    </tr>\n",
              "    <tr>\n",
              "      <th>1048560</th>\n",
              "      <td>268166.0</td>\n",
              "      <td>1048561.0</td>\n",
              "      <td>1</td>\n",
              "      <td>29</td>\n",
              "      <td>4.0</td>\n",
              "      <td>2</td>\n",
              "      <td>1.0</td>\n",
              "      <td>4.0</td>\n",
              "      <td>17052.0</td>\n",
              "      <td>4.0</td>\n",
              "      <td>1421.0</td>\n",
              "      <td>2</td>\n",
              "    </tr>\n",
              "    <tr>\n",
              "      <th>1048564</th>\n",
              "      <td>4345055.0</td>\n",
              "      <td>1048565.0</td>\n",
              "      <td>2</td>\n",
              "      <td>45</td>\n",
              "      <td>1.0</td>\n",
              "      <td>1</td>\n",
              "      <td>1.0</td>\n",
              "      <td>8.0</td>\n",
              "      <td>6080.0</td>\n",
              "      <td>1.0</td>\n",
              "      <td>760.0</td>\n",
              "      <td>1</td>\n",
              "    </tr>\n",
              "    <tr>\n",
              "      <th>1048574</th>\n",
              "      <td>985523.0</td>\n",
              "      <td>1048575.0</td>\n",
              "      <td>2</td>\n",
              "      <td>44</td>\n",
              "      <td>4.0</td>\n",
              "      <td>2</td>\n",
              "      <td>1.0</td>\n",
              "      <td>8.0</td>\n",
              "      <td>2400.0</td>\n",
              "      <td>1.0</td>\n",
              "      <td>400.0</td>\n",
              "      <td>3</td>\n",
              "    </tr>\n",
              "  </tbody>\n",
              "</table>\n",
              "<p>211441 rows × 12 columns</p>\n",
              "</div>\n",
              "      <button class=\"colab-df-convert\" onclick=\"convertToInteractive('df-8c9d4b7c-cd37-4ef2-ab04-d1d5f2149074')\"\n",
              "              title=\"Convert this dataframe to an interactive table.\"\n",
              "              style=\"display:none;\">\n",
              "        \n",
              "  <svg xmlns=\"http://www.w3.org/2000/svg\" height=\"24px\"viewBox=\"0 0 24 24\"\n",
              "       width=\"24px\">\n",
              "    <path d=\"M0 0h24v24H0V0z\" fill=\"none\"/>\n",
              "    <path d=\"M18.56 5.44l.94 2.06.94-2.06 2.06-.94-2.06-.94-.94-2.06-.94 2.06-2.06.94zm-11 1L8.5 8.5l.94-2.06 2.06-.94-2.06-.94L8.5 2.5l-.94 2.06-2.06.94zm10 10l.94 2.06.94-2.06 2.06-.94-2.06-.94-.94-2.06-.94 2.06-2.06.94z\"/><path d=\"M17.41 7.96l-1.37-1.37c-.4-.4-.92-.59-1.43-.59-.52 0-1.04.2-1.43.59L10.3 9.45l-7.72 7.72c-.78.78-.78 2.05 0 2.83L4 21.41c.39.39.9.59 1.41.59.51 0 1.02-.2 1.41-.59l7.78-7.78 2.81-2.81c.8-.78.8-2.07 0-2.86zM5.41 20L4 18.59l7.72-7.72 1.47 1.35L5.41 20z\"/>\n",
              "  </svg>\n",
              "      </button>\n",
              "      \n",
              "  <style>\n",
              "    .colab-df-container {\n",
              "      display:flex;\n",
              "      flex-wrap:wrap;\n",
              "      gap: 12px;\n",
              "    }\n",
              "\n",
              "    .colab-df-convert {\n",
              "      background-color: #E8F0FE;\n",
              "      border: none;\n",
              "      border-radius: 50%;\n",
              "      cursor: pointer;\n",
              "      display: none;\n",
              "      fill: #1967D2;\n",
              "      height: 32px;\n",
              "      padding: 0 0 0 0;\n",
              "      width: 32px;\n",
              "    }\n",
              "\n",
              "    .colab-df-convert:hover {\n",
              "      background-color: #E2EBFA;\n",
              "      box-shadow: 0px 1px 2px rgba(60, 64, 67, 0.3), 0px 1px 3px 1px rgba(60, 64, 67, 0.15);\n",
              "      fill: #174EA6;\n",
              "    }\n",
              "\n",
              "    [theme=dark] .colab-df-convert {\n",
              "      background-color: #3B4455;\n",
              "      fill: #D2E3FC;\n",
              "    }\n",
              "\n",
              "    [theme=dark] .colab-df-convert:hover {\n",
              "      background-color: #434B5C;\n",
              "      box-shadow: 0px 1px 3px 1px rgba(0, 0, 0, 0.15);\n",
              "      filter: drop-shadow(0px 1px 2px rgba(0, 0, 0, 0.3));\n",
              "      fill: #FFFFFF;\n",
              "    }\n",
              "  </style>\n",
              "\n",
              "      <script>\n",
              "        const buttonEl =\n",
              "          document.querySelector('#df-8c9d4b7c-cd37-4ef2-ab04-d1d5f2149074 button.colab-df-convert');\n",
              "        buttonEl.style.display =\n",
              "          google.colab.kernel.accessAllowed ? 'block' : 'none';\n",
              "\n",
              "        async function convertToInteractive(key) {\n",
              "          const element = document.querySelector('#df-8c9d4b7c-cd37-4ef2-ab04-d1d5f2149074');\n",
              "          const dataTable =\n",
              "            await google.colab.kernel.invokeFunction('convertToInteractive',\n",
              "                                                     [key], {});\n",
              "          if (!dataTable) return;\n",
              "\n",
              "          const docLinkHtml = 'Like what you see? Visit the ' +\n",
              "            '<a target=\"_blank\" href=https://colab.research.google.com/notebooks/data_table.ipynb>data table notebook</a>'\n",
              "            + ' to learn more about interactive tables.';\n",
              "          element.innerHTML = '';\n",
              "          dataTable['output_type'] = 'display_data';\n",
              "          await google.colab.output.renderOutput(dataTable, element);\n",
              "          const docLink = document.createElement('div');\n",
              "          docLink.innerHTML = docLinkHtml;\n",
              "          element.appendChild(docLink);\n",
              "        }\n",
              "      </script>\n",
              "    </div>\n",
              "  </div>\n",
              "  "
            ]
          },
          "metadata": {},
          "execution_count": 11
        }
      ]
    },
    {
      "cell_type": "markdown",
      "source": [
        "# Money as a vector of wealth\n",
        "\n",
        "After the data cleaning, we can finally dive into the analyses itself. Let us first understand the sampling financial information, in other words, the amount of money per person. \n"
      ],
      "metadata": {
        "id": "YDiSle8YPRwm"
      }
    },
    {
      "cell_type": "code",
      "source": [
        "cad_unico['val_renda_bruta_12_meses_memb'].max()"
      ],
      "metadata": {
        "colab": {
          "base_uri": "https://localhost:8080/"
        },
        "id": "PPzlph6vQAAz",
        "outputId": "faac72f8-8c56-4790-b6e2-43178ea3fc48"
      },
      "execution_count": null,
      "outputs": [
        {
          "output_type": "execute_result",
          "data": {
            "text/plain": [
              "99990.0"
            ]
          },
          "metadata": {},
          "execution_count": 12
        }
      ]
    },
    {
      "cell_type": "markdown",
      "source": [
        "As we can see, if we **only** look at the amount money received in the span of a year, the highest record in the sampling would be considered a wealthy person if compared to the mean of its country (R$ 30.840).\n",
        "\n",
        "We can not say otherwise (the lowest entry is a poor person), due to the fact that there are people in the sampling that are underage or retired, therefore, they have no jobs or the money they have comes from different resources, like donating or retirement.\n",
        "\n",
        "In fact, in order to ensure that the sampling do not have distant values, we can calculate the standard deviation of it, in order to analyse how much the values differ from its mean.\n",
        "\n",
        "Let us first see what is the mean of what people receive"
      ],
      "metadata": {
        "id": "Azj9yp-AQjqa"
      }
    },
    {
      "cell_type": "code",
      "source": [
        "int(cad_unico['val_renda_bruta_12_meses_memb'].mean())\n"
      ],
      "metadata": {
        "colab": {
          "base_uri": "https://localhost:8080/"
        },
        "id": "haHyD9FuTgXZ",
        "outputId": "7c05b197-600d-48be-a1c2-e71bcf8fc6a1"
      },
      "execution_count": null,
      "outputs": [
        {
          "output_type": "execute_result",
          "data": {
            "text/plain": [
              "5178"
            ]
          },
          "metadata": {},
          "execution_count": 13
        }
      ]
    },
    {
      "cell_type": "markdown",
      "source": [
        "Then, we calculate the standard deviation"
      ],
      "metadata": {
        "id": "gT9twJzrT3RO"
      }
    },
    {
      "cell_type": "code",
      "source": [
        "int(cad_unico['val_renda_bruta_12_meses_memb'].std())"
      ],
      "metadata": {
        "colab": {
          "base_uri": "https://localhost:8080/"
        },
        "id": "JjkOoLSrTLDy",
        "outputId": "2efe15d0-0d36-49ae-86c7-f290bfae665a"
      },
      "execution_count": null,
      "outputs": [
        {
          "output_type": "execute_result",
          "data": {
            "text/plain": [
              "5660"
            ]
          },
          "metadata": {},
          "execution_count": 14
        }
      ]
    },
    {
      "cell_type": "markdown",
      "source": [
        "As we can see, the values are not that far from eachother. Over the period of a year, this would represent a monthly gap of R$ 462, on average."
      ],
      "metadata": {
        "id": "D9NxeJehTS50"
      }
    },
    {
      "cell_type": "markdown",
      "source": [
        "# Education as a vector of wealth\n",
        "\n",
        "We can stablish a correlation between a well educated person with the amount of money it receveis."
      ],
      "metadata": {
        "id": "i6wSMjwpmNg8"
      }
    },
    {
      "cell_type": "markdown",
      "source": [
        "### Correlation between literate and illiterate people"
      ],
      "metadata": {
        "id": "NXo_hU0YG2X4"
      }
    },
    {
      "cell_type": "code",
      "source": [
        "\n",
        "#Creating a subset gathered by the either the person can read\n",
        "reading_capacity_group = cad_unico[['cod_sabe_ler_escrever_memb','val_renda_bruta_12_meses_memb']].groupby('cod_sabe_ler_escrever_memb')\n",
        "\n",
        "groups = [reading_capacity_group.get_group(x) for x in reading_capacity_group.groups]\n",
        "\n",
        "#Taking the mean salary based on the previous subset \n",
        "can_read_salary_mean = groups[0]['val_renda_bruta_12_meses_memb'].mean()\n",
        "cannot_read_salary_mean = groups[1]['val_renda_bruta_12_meses_memb'].mean()\n",
        "\n",
        "# Plotting the correlation\n",
        "means = [can_read_salary_mean, cannot_read_salary_mean]\n",
        "groups = ('Sabe ler', 'Não sabe ler')\n",
        "y_pos = np.arange(len(groups))\n",
        "plt.bar(y_pos, means)\n",
        "plt.xticks(y_pos, groups)\n",
        "plt.show()"
      ],
      "metadata": {
        "colab": {
          "base_uri": "https://localhost:8080/",
          "height": 265
        },
        "id": "Ateq0a3gmu64",
        "outputId": "44e7c57e-509d-46f9-b12d-06aad470bf40"
      },
      "execution_count": null,
      "outputs": [
        {
          "output_type": "display_data",
          "data": {
            "text/plain": [
              "<Figure size 432x288 with 1 Axes>"
            ],
            "image/png": "[encoded data removed]"
          },
          "metadata": {
            "needs_background": "light"
          }
        }
      ]
    },
    {
      "cell_type": "markdown",
      "source": [
        "As we can see, the people who have the ability to read receive a greater amount of money per year."
      ],
      "metadata": {
        "id": "sp76ykd5vElD"
      }
    },
    {
      "cell_type": "markdown",
      "source": [
        "### Correlation between level of schooling"
      ],
      "metadata": {
        "id": "9k14Q1ysHBHS"
      }
    },
    {
      "cell_type": "code",
      "source": [
        "#Creating a subset grouped by people school leveling\n",
        "schooling_group = cad_unico[['cod_curso_frequentou_pessoa_memb','val_renda_bruta_12_meses_memb']].groupby('cod_curso_frequentou_pessoa_memb')\n",
        "\n",
        "groups = [schooling_group.get_group(x) for x in schooling_group.groups]\n",
        "\n",
        "# #Taking the mean salary based on the previous subset \n",
        "school_leveling_group_1 = groups[0]['val_renda_bruta_12_meses_memb'].mean()\n",
        "school_leveling_group_2 = groups[1]['val_renda_bruta_12_meses_memb'].mean()\n",
        "school_leveling_group_3 = groups[2]['val_renda_bruta_12_meses_memb'].mean()\n",
        "school_leveling_group_4 = groups[3]['val_renda_bruta_12_meses_memb'].mean()\n",
        "school_leveling_group_5 = groups[4]['val_renda_bruta_12_meses_memb'].mean()\n",
        "school_leveling_group_6 = groups[5]['val_renda_bruta_12_meses_memb'].mean()\n",
        "school_leveling_group_7 = groups[6]['val_renda_bruta_12_meses_memb'].mean()\n",
        "school_leveling_group_8 = groups[7]['val_renda_bruta_12_meses_memb'].mean()\n",
        "school_leveling_group_9 = groups[8]['val_renda_bruta_12_meses_memb'].mean()\n",
        "school_leveling_group_10 = groups[9]['val_renda_bruta_12_meses_memb'].mean()\n",
        "school_leveling_group_11 = groups[10]['val_renda_bruta_12_meses_memb'].mean()\n",
        "school_leveling_group_12 = groups[11]['val_renda_bruta_12_meses_memb'].mean()\n",
        "school_leveling_group_13 = groups[12]['val_renda_bruta_12_meses_memb'].mean()\n",
        "school_leveling_group_14 = groups[13]['val_renda_bruta_12_meses_memb'].mean()\n",
        "school_leveling_group_15 = groups[14]['val_renda_bruta_12_meses_memb'].mean()\n",
        "\n",
        "# # Plotting the correlation\n",
        "means = [school_leveling_group_1, school_leveling_group_2, school_leveling_group_3, school_leveling_group_4,\n",
        "         school_leveling_group_5, school_leveling_group_6, school_leveling_group_7, school_leveling_group_8,\n",
        "         school_leveling_group_9, school_leveling_group_10, school_leveling_group_11, school_leveling_group_12,\n",
        "         school_leveling_group_13, school_leveling_group_14, school_leveling_group_15]\n",
        "groups = ('Creche', 'Pré-escola','CA', 'Fundamental - 1º a 4º ano','Fundamental - 5º a 8º ano', 'Fundamental','Fundamental Especial', 'Médio','Médio Especial', 'Fundamental EJA - 1º a 4º ano',\n",
        "'Fundamental EJA - 5º a 8º ano', 'Médio EJA','Superior+', 'Alfabetização para adultos','Nenhum')\n",
        "y_pos = np.arange(len(groups))\n",
        "\n",
        "# plotting a line plot after changing it's width and height\n",
        "f = plt.figure()\n",
        "f.set_figwidth(60)\n",
        "f.set_figheight(20)\n",
        "\n",
        "plt.bar(y_pos, means)\n",
        "plt.xticks(y_pos, groups)\n",
        "plt.show()"
      ],
      "metadata": {
        "colab": {
          "base_uri": "https://localhost:8080/",
          "height": 596
        },
        "id": "iF4ILe1dHSdR",
        "outputId": "e2be5dfa-10b5-4573-9f3c-793504ad53bd"
      },
      "execution_count": null,
      "outputs": [
        {
          "output_type": "display_data",
          "data": {
            "text/plain": [
              "<Figure size 4320x1440 with 1 Axes>"
            ],
            "image/png": "[encoded data removed]"
          },
          "metadata": {
            "needs_background": "light"
          }
        }
      ]
    },
    {
      "cell_type": "markdown",
      "source": [
        "As we can see, people who have higher level of education are likely to have greater amount of money per year."
      ],
      "metadata": {
        "id": "A-omohGGVshF"
      }
    },
    {
      "cell_type": "markdown",
      "source": [
        "# Occupation as a vector of wealth\n",
        "\n"
      ],
      "metadata": {
        "id": "lGyPkK3uFtvd"
      }
    },
    {
      "cell_type": "code",
      "source": [
        "#Creating a subset grouped by people occupation\n",
        "occupation_group = cad_unico[['cod_principal_trab_memb','val_renda_bruta_12_meses_memb']].groupby('cod_principal_trab_memb')\n",
        "\n",
        "groups = [occupation_group.get_group(x) for x in occupation_group.groups]\n",
        "\n",
        "# #Taking the mean salary based on the previous subset \n",
        "occupation_group_1 = groups[0]['val_renda_bruta_12_meses_memb'].mean()\n",
        "occupation_group_2 = groups[1]['val_renda_bruta_12_meses_memb'].mean()\n",
        "occupation_group_3 = groups[2]['val_renda_bruta_12_meses_memb'].mean()\n",
        "occupation_group_4 = groups[3]['val_renda_bruta_12_meses_memb'].mean()\n",
        "occupation_group_5 = groups[4]['val_renda_bruta_12_meses_memb'].mean()\n",
        "occupation_group_6 = groups[5]['val_renda_bruta_12_meses_memb'].mean()\n",
        "occupation_group_7 = groups[6]['val_renda_bruta_12_meses_memb'].mean()\n",
        "occupation_group_8 = groups[7]['val_renda_bruta_12_meses_memb'].mean()\n",
        "occupation_group_9 = groups[8]['val_renda_bruta_12_meses_memb'].mean()\n",
        "occupation_group_10 = groups[9]['val_renda_bruta_12_meses_memb'].mean()\n",
        "occupation_group_11 = groups[10]['val_renda_bruta_12_meses_memb'].mean()\n",
        "\n",
        "# # Plotting the correlation\n",
        "means = [occupation_group_1, occupation_group_2, occupation_group_3, occupation_group_4,\n",
        "         occupation_group_5, occupation_group_6, occupation_group_7, occupation_group_8,\n",
        "         occupation_group_9, occupation_group_10, occupation_group_11]\n",
        "groups = ('Autônomo', 'Temporário rural','Empregado sem CLT', 'Empregado com CLT','Doméstico sem CLT', 'Doméstico com CLT','Não-remunerado', 'Militar ou servidor público','Empregador', 'Estagiário',\n",
        "'Jovem Aprendiz')\n",
        "y_pos = np.arange(len(groups))\n",
        "\n",
        "# plotting a line plot after changing it's width and height\n",
        "f = plt.figure()\n",
        "f.set_figwidth(60)\n",
        "f.set_figheight(20)\n",
        "\n",
        "plt.bar(y_pos, means)\n",
        "plt.xticks(y_pos, groups)\n",
        "plt.show()"
      ],
      "metadata": {
        "colab": {
          "base_uri": "https://localhost:8080/",
          "height": 596
        },
        "id": "TM2oHa-VRcOd",
        "outputId": "9cbd9640-6095-4b18-c243-c0b56e3e647c"
      },
      "execution_count": null,
      "outputs": [
        {
          "output_type": "display_data",
          "data": {
            "text/plain": [
              "<Figure size 4320x1440 with 1 Axes>"
            ],
            "image/png": "[encoded data removed]"
          },
          "metadata": {
            "needs_background": "light"
          }
        }
      ]
    },
    {
      "cell_type": "markdown",
      "source": [
        "As we can see, people engaged in military carriers, public positions and CLT are more likely to have greater amount of money per year."
      ],
      "metadata": {
        "id": "jBe_SmpfV9GH"
      }
    },
    {
      "cell_type": "markdown",
      "source": [
        "# Infrastructure as a vector of wealth"
      ],
      "metadata": {
        "id": "haP6XKN7HJGF"
      }
    },
    {
      "cell_type": "code",
      "source": [
        "#Creating a subset grouped by people location\n",
        "infrastructure_group = cad_unico[['classf','val_renda_bruta_12_meses_memb']].groupby('classf')\n",
        "\n",
        "groups = [infrastructure_group.get_group(x) for x in infrastructure_group.groups]\n",
        "\n",
        "# #Taking the mean salary based on the previous subset \n",
        "infrastructure_group_1 = groups[0]['val_renda_bruta_12_meses_memb'].mean()\n",
        "infrastructure_group_2 = groups[1]['val_renda_bruta_12_meses_memb'].mean()\n",
        "infrastructure_group_3 = groups[2]['val_renda_bruta_12_meses_memb'].mean()\n",
        "\n",
        "# # Plotting the correlation\n",
        "means = [infrastructure_group_1, infrastructure_group_2, infrastructure_group_3]\n",
        "groups = ('Capital', 'Região Metropolitana ou Integrada de Desenvolvimento','Outros')\n",
        "y_pos = np.arange(len(groups))\n",
        "\n",
        "# plotting a line plot after changing it's width and height\n",
        "f = plt.figure()\n",
        "f.set_figwidth(15)\n",
        "f.set_figheight(10)\n",
        "\n",
        "plt.bar(y_pos, means)\n",
        "plt.xticks(y_pos, groups)\n",
        "plt.show()"
      ],
      "metadata": {
        "colab": {
          "base_uri": "https://localhost:8080/",
          "height": 592
        },
        "id": "F99axpJ5HOIG",
        "outputId": "edeb5596-ca1f-49e9-e261-e3ac0de91d37"
      },
      "execution_count": null,
      "outputs": [
        {
          "output_type": "display_data",
          "data": {
            "text/plain": [
              "<Figure size 1080x720 with 1 Axes>"
            ],
            "image/png": "[encoded data removed]"
          },
          "metadata": {
            "needs_background": "light"
          }
        }
      ]
    },
    {
      "cell_type": "markdown",
      "source": [
        "As we can see, people living/working in the capital are more likely to have greater amount of money per year. Besides that, this metric doesn't take into living cost."
      ],
      "metadata": {
        "id": "SbS3rMc-W1kD"
      }
    },
    {
      "cell_type": "markdown",
      "source": [
        "# Race, sex and education as a vector of wealth\n",
        "\n",
        "In our sampling, we can infer how many people are from a race, in which of it, the sex and the education. \n",
        "\n",
        "To simplify, the last case study of this document will be the a correlation between money, race, sex and education. As education get fixed on a single entry, for example, completed high school, we can take people from the same category of job (Under the rules of clt), and check how much people differ from each other under the same aspect of analise. \n",
        "\n",
        "But first, let us see how many pleople of our sampling say about its race."
      ],
      "metadata": {
        "id": "Xae0NbbTnAD2"
      }
    },
    {
      "cell_type": "code",
      "source": [
        "brancos = len(cad_unico[cad_unico.cod_raca_cor_pessoa == 1])\n",
        "pretos = len(cad_unico[cad_unico.cod_raca_cor_pessoa == 2])\n",
        "amarelos = len(cad_unico[cad_unico.cod_raca_cor_pessoa == 3])\n",
        "pardos =len(cad_unico[cad_unico.cod_raca_cor_pessoa == 4])\n",
        "indigenas =len(cad_unico[cad_unico.cod_raca_cor_pessoa == 5])\n",
        "\n",
        "# Plotting the race data\n",
        "data = [brancos, pretos, amarelos, pardos, indigenas]\n",
        "groups = ('Brancos', 'Pretos', 'Amarelos','Pardos','Indigenas')\n",
        "y_pos = np.arange(len(groups))\n",
        "plt.bar(y_pos, data)\n",
        "plt.xticks(y_pos, groups)\n",
        "plt.show()"
      ],
      "metadata": {
        "colab": {
          "base_uri": "https://localhost:8080/",
          "height": 268
        },
        "id": "poMSxyMuo3sb",
        "outputId": "b0c07757-2b30-468f-c76a-d16656e8f79c"
      },
      "execution_count": null,
      "outputs": [
        {
          "output_type": "display_data",
          "data": {
            "text/plain": [
              "<Figure size 432x288 with 1 Axes>"
            ],
            "image/png": "[encoded data removed]"
          },
          "metadata": {
            "needs_background": "light"
          }
        }
      ]
    },
    {
      "cell_type": "markdown",
      "source": [
        "Now we are going to start the analises only with envy parameters (Not considering the other ones that cleary has a weight on the result.) "
      ],
      "metadata": {
        "id": "OnIj0wSaslld"
      }
    },
    {
      "cell_type": "code",
      "source": [
        "men_salary = cad_unico[cad_unico.cod_sexo_pessoa == 1]['val_renda_bruta_12_meses_memb'].mean()\n",
        "women_salary = cad_unico[cad_unico.cod_sexo_pessoa == 2]['val_renda_bruta_12_meses_memb'].mean()\n",
        "\n",
        "# Plotting the race data\n",
        "data = [men_salary, women_salary]\n",
        "groups = ('Salario masculino', 'Salario feminino')\n",
        "y_pos = np.arange(len(groups))\n",
        "plt.bar(y_pos, data)\n",
        "plt.xticks(y_pos, groups)\n",
        "plt.show()"
      ],
      "metadata": {
        "colab": {
          "base_uri": "https://localhost:8080/",
          "height": 265
        },
        "id": "vz33d0Bbs-bB",
        "outputId": "359a6d13-eec6-449c-a094-af7e54a95fff"
      },
      "execution_count": null,
      "outputs": [
        {
          "output_type": "display_data",
          "data": {
            "text/plain": [
              "<Figure size 432x288 with 1 Axes>"
            ],
            "image/png": "[encoded data removed]"
          },
          "metadata": {
            "needs_background": "light"
          }
        }
      ]
    },
    {
      "cell_type": "markdown",
      "source": [
        "With this envy analise we can infer that men, on average, receive 20% more than women.\n",
        "\n",
        "Let us dive into salary x race"
      ],
      "metadata": {
        "id": "NTjGvG8MuGxk"
      }
    },
    {
      "cell_type": "code",
      "source": [
        "# Gathering the frames by race\n",
        "\n",
        "groups = []\n",
        "for x in range(1,6):\n",
        "  groups.append(cad_unico[cad_unico.cod_raca_cor_pessoa == x])\n",
        "\n",
        "salary_per_group = []\n",
        "for entry in groups:\n",
        "  salary_per_group.append(entry['val_renda_bruta_12_meses_memb'].mean())\n",
        "\n",
        "# Plotting the race data\n",
        "data = salary_per_group\n",
        "groups = ('Brancos', 'Pretos', 'Amarelos','Pardos','Indigenas')\n",
        "y_pos = np.arange(len(groups))\n",
        "plt.bar(y_pos, data)\n",
        "plt.xticks(y_pos, groups)\n",
        "plt.show()"
      ],
      "metadata": {
        "colab": {
          "base_uri": "https://localhost:8080/",
          "height": 265
        },
        "id": "Zt-VMqVUuZyJ",
        "outputId": "b02f6f11-2e3e-42d8-9bfc-4506b7ba0245"
      },
      "execution_count": null,
      "outputs": [
        {
          "output_type": "display_data",
          "data": {
            "text/plain": [
              "<Figure size 432x288 with 1 Axes>"
            ],
            "image/png": "[encoded data removed]"
          },
          "metadata": {
            "needs_background": "light"
          }
        }
      ]
    },
    {
      "cell_type": "markdown",
      "source": [
        "Finally, let us make a complete analise. Considering all the variables we have in the sampling in order to make a smarter study of poverty."
      ],
      "metadata": {
        "id": "xvYXVuajvUIh"
      }
    },
    {
      "cell_type": "code",
      "source": [
        "only_high_school_and_clt = cad_unico[cad_unico.cod_curso_frequentou_pessoa_memb == 8][cad_unico.cod_principal_trab_memb == 4]\n",
        "\n",
        "men = only_high_school_and_clt[only_high_school_and_clt.cod_sexo_pessoa == 1]\n",
        "women = only_high_school_and_clt[only_high_school_and_clt.cod_sexo_pessoa == 2]\n",
        "\n",
        "groups = []\n",
        "for x in range(1,6):\n",
        "  groups.append(men[men.cod_raca_cor_pessoa == x])\n",
        "\n",
        "men_salary_per_group = []\n",
        "for entry in groups:\n",
        "  men_salary_per_group.append(entry['val_renda_bruta_12_meses_memb'].mean())\n",
        "\n",
        "groups = []\n",
        "for x in range(1,6):\n",
        "  groups.append(women[women.cod_raca_cor_pessoa == x])\n",
        "\n",
        "women_salary_per_group = []\n",
        "for entry in groups:\n",
        "  women_salary_per_group.append(entry['val_renda_bruta_12_meses_memb'].mean())\n",
        "\n",
        "\n",
        "# Plotting the race data\n",
        "data = men_salary_per_group\n",
        "groups = ('Brancos', 'Pretos', 'Amarelos','Pardos','Indigenos')\n",
        "y_pos = np.arange(len(groups))\n",
        "plt.title(\"Homens, com ensino médio e com carteira assinada\")\n",
        "plt.bar(y_pos, data)\n",
        "plt.xticks(y_pos, groups)\n",
        "plt.show()\n",
        "\n",
        "# Plotting the race data\n",
        "data = women_salary_per_group\n",
        "groups = ('Brancas', 'Pretas', 'Amarelas','Pardas','Indigenas')\n",
        "y_pos = np.arange(len(groups))\n",
        "plt.title(\"Mulheres, com ensino médio e com carteira assinada\")\n",
        "plt.bar(y_pos, data)\n",
        "plt.xticks(y_pos, groups)\n",
        "plt.show()\n"
      ],
      "metadata": {
        "colab": {
          "base_uri": "https://localhost:8080/",
          "height": 580
        },
        "id": "2X9EEfo_vrac",
        "outputId": "3eda0e54-0f17-46bf-eb37-2a8e15fb2118"
      },
      "execution_count": null,
      "outputs": [
        {
          "output_type": "stream",
          "name": "stderr",
          "text": [
            "<ipython-input-21-fefbc0ba94fe>:1: UserWarning: Boolean Series key will be reindexed to match DataFrame index.\n",
            "  only_high_school_and_clt = cad_unico[cad_unico.cod_curso_frequentou_pessoa_memb == 8][cad_unico.cod_principal_trab_memb == 4]\n"
          ]
        },
        {
          "output_type": "display_data",
          "data": {
            "text/plain": [
              "<Figure size 432x288 with 1 Axes>"
            ],
            "image/png": "[encoded data removed]"
          },
          "metadata": {
            "needs_background": "light"
          }
        },
        {
          "output_type": "display_data",
          "data": {
            "text/plain": [
              "<Figure size 432x288 with 1 Axes>"
            ],
            "image/png": "[encoded data removed]"
          },
          "metadata": {
            "needs_background": "light"
          }
        }
      ]
    }
  ]
}