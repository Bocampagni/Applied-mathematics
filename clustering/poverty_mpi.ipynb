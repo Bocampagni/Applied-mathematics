{
  "nbformat": 4,
  "nbformat_minor": 0,
  "metadata": {
    "colab": {
      "provenance": [],
      "authorship_tag": "ABX9TyPOzYLmQyu7H6htHoB3Leah",
      "include_colab_link": true
    },
    "kernelspec": {
      "name": "python3",
      "display_name": "Python 3"
    },
    "language_info": {
      "name": "python"
    }
  },
  "cells": [
    {
      "cell_type": "markdown",
      "metadata": {
        "id": "view-in-github",
        "colab_type": "text"
      },
      "source": [
        "<a href=\"https://colab.research.google.com/github/Bocampagni/Applied-mathematics/blob/master/clustering/poverty_mpi.ipynb\" target=\"_parent\"><img src=\"https://colab.research.google.com/assets/colab-badge.svg\" alt=\"Open In Colab\"/></a>"
      ]
    },
    {
      "cell_type": "markdown",
      "source": [
        "# Applying mathematical analyses in order to make a MPI.\n",
        "\n",
        "Fábio Alves Bocampagni\n",
        "\n",
        "What is the Multidimensional Poverty Measure? An index that captures the percentage of households in a country deprived along three dimensions of well-being – monetary poverty, education, and basic infrastructure services – to provide a more complete picture of poverty."
      ],
      "metadata": {
        "id": "M7pKhD42BUne"
      }
    },
    {
      "cell_type": "code",
      "source": [
        "import pandas as pd\n",
        "data = pd.read_csv(\"/amostra_pessoa.csv\")\n",
        "\n",
        "#Creating a sampling sub group, to gather only information that will be used.\n",
        "\n",
        "cad_unico = data[['id_familia',\n",
        "                  'id_pessoa',\n",
        "                  'cod_sexo_pessoa',\n",
        "                  'idade',\n",
        "                  'cod_raca_cor_pessoa',\n",
        "                  'cod_deficiencia_memb',\n",
        "                  'cod_sabe_ler_escrever_memb',\n",
        "                  'val_renda_bruta_12_meses_memb',\n",
        "                  'val_remuner_emprego_memb']].copy()\n",
        "\n",
        "#Avoiding null values in important fields\n",
        "cad_unico = cad_unico.dropna(how='any',axis=0) \n",
        "\n",
        "cad_unico\n"
      ],
      "metadata": {
        "colab": {
          "base_uri": "https://localhost:8080/",
          "height": 424
        },
        "id": "Yi7jSPpBChya",
        "outputId": "d3085de1-f0e2-4750-895b-318dc1274fdb"
      },
      "execution_count": 56,
      "outputs": [
        {
          "output_type": "execute_result",
          "data": {
            "text/plain": [
              "        id_familia  id_pessoa  cod_sexo_pessoa  idade  cod_raca_cor_pessoa  \\\n",
              "0          1555504          1                2     44                  1.0   \n",
              "6          4963019          7                2     35                  4.0   \n",
              "7          3407990          8                2     27                  2.0   \n",
              "15           69894         16                2     17                  1.0   \n",
              "21         2565641         22                2     36                  1.0   \n",
              "...            ...        ...              ...    ...                  ...   \n",
              "272980     1063112     272981                1     56                  1.0   \n",
              "272987     3157913     272988                2     32                  4.0   \n",
              "272993     4118022     272994                2     23                  4.0   \n",
              "273003     5102026     273004                2     47                  4.0   \n",
              "273008     4787085     273009                2     45                  4.0   \n",
              "\n",
              "        cod_deficiencia_memb  cod_sabe_ler_escrever_memb  \\\n",
              "0                          2                         1.0   \n",
              "6                          2                         1.0   \n",
              "7                          2                         1.0   \n",
              "15                         2                         1.0   \n",
              "21                         2                         1.0   \n",
              "...                      ...                         ...   \n",
              "272980                     2                         2.0   \n",
              "272987                     2                         1.0   \n",
              "272993                     2                         1.0   \n",
              "273003                     2                         1.0   \n",
              "273008                     2                         1.0   \n",
              "\n",
              "        val_renda_bruta_12_meses_memb  val_remuner_emprego_memb  \n",
              "0                              3840.0                     320.0  \n",
              "6                             12564.0                    1047.0  \n",
              "7                              2400.0                     200.0  \n",
              "15                             1920.0                     160.0  \n",
              "21                            15600.0                    1300.0  \n",
              "...                               ...                       ...  \n",
              "272980                         1000.0                       0.0  \n",
              "272987                         2400.0                     200.0  \n",
              "272993                          600.0                      50.0  \n",
              "273003                         2224.0                     150.0  \n",
              "273008                          400.0                     200.0  \n",
              "\n",
              "[65386 rows x 9 columns]"
            ],
            "text/html": [
              "\n",
              "  <div id=\"df-3736121a-a1c6-47c4-9fc8-54fe7acab3af\">\n",
              "    <div class=\"colab-df-container\">\n",
              "      <div>\n",
              "<style scoped>\n",
              "    .dataframe tbody tr th:only-of-type {\n",
              "        vertical-align: middle;\n",
              "    }\n",
              "\n",
              "    .dataframe tbody tr th {\n",
              "        vertical-align: top;\n",
              "    }\n",
              "\n",
              "    .dataframe thead th {\n",
              "        text-align: right;\n",
              "    }\n",
              "</style>\n",
              "<table border=\"1\" class=\"dataframe\">\n",
              "  <thead>\n",
              "    <tr style=\"text-align: right;\">\n",
              "      <th></th>\n",
              "      <th>id_familia</th>\n",
              "      <th>id_pessoa</th>\n",
              "      <th>cod_sexo_pessoa</th>\n",
              "      <th>idade</th>\n",
              "      <th>cod_raca_cor_pessoa</th>\n",
              "      <th>cod_deficiencia_memb</th>\n",
              "      <th>cod_sabe_ler_escrever_memb</th>\n",
              "      <th>val_renda_bruta_12_meses_memb</th>\n",
              "      <th>val_remuner_emprego_memb</th>\n",
              "    </tr>\n",
              "  </thead>\n",
              "  <tbody>\n",
              "    <tr>\n",
              "      <th>0</th>\n",
              "      <td>1555504</td>\n",
              "      <td>1</td>\n",
              "      <td>2</td>\n",
              "      <td>44</td>\n",
              "      <td>1.0</td>\n",
              "      <td>2</td>\n",
              "      <td>1.0</td>\n",
              "      <td>3840.0</td>\n",
              "      <td>320.0</td>\n",
              "    </tr>\n",
              "    <tr>\n",
              "      <th>6</th>\n",
              "      <td>4963019</td>\n",
              "      <td>7</td>\n",
              "      <td>2</td>\n",
              "      <td>35</td>\n",
              "      <td>4.0</td>\n",
              "      <td>2</td>\n",
              "      <td>1.0</td>\n",
              "      <td>12564.0</td>\n",
              "      <td>1047.0</td>\n",
              "    </tr>\n",
              "    <tr>\n",
              "      <th>7</th>\n",
              "      <td>3407990</td>\n",
              "      <td>8</td>\n",
              "      <td>2</td>\n",
              "      <td>27</td>\n",
              "      <td>2.0</td>\n",
              "      <td>2</td>\n",
              "      <td>1.0</td>\n",
              "      <td>2400.0</td>\n",
              "      <td>200.0</td>\n",
              "    </tr>\n",
              "    <tr>\n",
              "      <th>15</th>\n",
              "      <td>69894</td>\n",
              "      <td>16</td>\n",
              "      <td>2</td>\n",
              "      <td>17</td>\n",
              "      <td>1.0</td>\n",
              "      <td>2</td>\n",
              "      <td>1.0</td>\n",
              "      <td>1920.0</td>\n",
              "      <td>160.0</td>\n",
              "    </tr>\n",
              "    <tr>\n",
              "      <th>21</th>\n",
              "      <td>2565641</td>\n",
              "      <td>22</td>\n",
              "      <td>2</td>\n",
              "      <td>36</td>\n",
              "      <td>1.0</td>\n",
              "      <td>2</td>\n",
              "      <td>1.0</td>\n",
              "      <td>15600.0</td>\n",
              "      <td>1300.0</td>\n",
              "    </tr>\n",
              "    <tr>\n",
              "      <th>...</th>\n",
              "      <td>...</td>\n",
              "      <td>...</td>\n",
              "      <td>...</td>\n",
              "      <td>...</td>\n",
              "      <td>...</td>\n",
              "      <td>...</td>\n",
              "      <td>...</td>\n",
              "      <td>...</td>\n",
              "      <td>...</td>\n",
              "    </tr>\n",
              "    <tr>\n",
              "      <th>272980</th>\n",
              "      <td>1063112</td>\n",
              "      <td>272981</td>\n",
              "      <td>1</td>\n",
              "      <td>56</td>\n",
              "      <td>1.0</td>\n",
              "      <td>2</td>\n",
              "      <td>2.0</td>\n",
              "      <td>1000.0</td>\n",
              "      <td>0.0</td>\n",
              "    </tr>\n",
              "    <tr>\n",
              "      <th>272987</th>\n",
              "      <td>3157913</td>\n",
              "      <td>272988</td>\n",
              "      <td>2</td>\n",
              "      <td>32</td>\n",
              "      <td>4.0</td>\n",
              "      <td>2</td>\n",
              "      <td>1.0</td>\n",
              "      <td>2400.0</td>\n",
              "      <td>200.0</td>\n",
              "    </tr>\n",
              "    <tr>\n",
              "      <th>272993</th>\n",
              "      <td>4118022</td>\n",
              "      <td>272994</td>\n",
              "      <td>2</td>\n",
              "      <td>23</td>\n",
              "      <td>4.0</td>\n",
              "      <td>2</td>\n",
              "      <td>1.0</td>\n",
              "      <td>600.0</td>\n",
              "      <td>50.0</td>\n",
              "    </tr>\n",
              "    <tr>\n",
              "      <th>273003</th>\n",
              "      <td>5102026</td>\n",
              "      <td>273004</td>\n",
              "      <td>2</td>\n",
              "      <td>47</td>\n",
              "      <td>4.0</td>\n",
              "      <td>2</td>\n",
              "      <td>1.0</td>\n",
              "      <td>2224.0</td>\n",
              "      <td>150.0</td>\n",
              "    </tr>\n",
              "    <tr>\n",
              "      <th>273008</th>\n",
              "      <td>4787085</td>\n",
              "      <td>273009</td>\n",
              "      <td>2</td>\n",
              "      <td>45</td>\n",
              "      <td>4.0</td>\n",
              "      <td>2</td>\n",
              "      <td>1.0</td>\n",
              "      <td>400.0</td>\n",
              "      <td>200.0</td>\n",
              "    </tr>\n",
              "  </tbody>\n",
              "</table>\n",
              "<p>65386 rows × 9 columns</p>\n",
              "</div>\n",
              "      <button class=\"colab-df-convert\" onclick=\"convertToInteractive('df-3736121a-a1c6-47c4-9fc8-54fe7acab3af')\"\n",
              "              title=\"Convert this dataframe to an interactive table.\"\n",
              "              style=\"display:none;\">\n",
              "        \n",
              "  <svg xmlns=\"http://www.w3.org/2000/svg\" height=\"24px\"viewBox=\"0 0 24 24\"\n",
              "       width=\"24px\">\n",
              "    <path d=\"M0 0h24v24H0V0z\" fill=\"none\"/>\n",
              "    <path d=\"M18.56 5.44l.94 2.06.94-2.06 2.06-.94-2.06-.94-.94-2.06-.94 2.06-2.06.94zm-11 1L8.5 8.5l.94-2.06 2.06-.94-2.06-.94L8.5 2.5l-.94 2.06-2.06.94zm10 10l.94 2.06.94-2.06 2.06-.94-2.06-.94-.94-2.06-.94 2.06-2.06.94z\"/><path d=\"M17.41 7.96l-1.37-1.37c-.4-.4-.92-.59-1.43-.59-.52 0-1.04.2-1.43.59L10.3 9.45l-7.72 7.72c-.78.78-.78 2.05 0 2.83L4 21.41c.39.39.9.59 1.41.59.51 0 1.02-.2 1.41-.59l7.78-7.78 2.81-2.81c.8-.78.8-2.07 0-2.86zM5.41 20L4 18.59l7.72-7.72 1.47 1.35L5.41 20z\"/>\n",
              "  </svg>\n",
              "      </button>\n",
              "      \n",
              "  <style>\n",
              "    .colab-df-container {\n",
              "      display:flex;\n",
              "      flex-wrap:wrap;\n",
              "      gap: 12px;\n",
              "    }\n",
              "\n",
              "    .colab-df-convert {\n",
              "      background-color: #E8F0FE;\n",
              "      border: none;\n",
              "      border-radius: 50%;\n",
              "      cursor: pointer;\n",
              "      display: none;\n",
              "      fill: #1967D2;\n",
              "      height: 32px;\n",
              "      padding: 0 0 0 0;\n",
              "      width: 32px;\n",
              "    }\n",
              "\n",
              "    .colab-df-convert:hover {\n",
              "      background-color: #E2EBFA;\n",
              "      box-shadow: 0px 1px 2px rgba(60, 64, 67, 0.3), 0px 1px 3px 1px rgba(60, 64, 67, 0.15);\n",
              "      fill: #174EA6;\n",
              "    }\n",
              "\n",
              "    [theme=dark] .colab-df-convert {\n",
              "      background-color: #3B4455;\n",
              "      fill: #D2E3FC;\n",
              "    }\n",
              "\n",
              "    [theme=dark] .colab-df-convert:hover {\n",
              "      background-color: #434B5C;\n",
              "      box-shadow: 0px 1px 3px 1px rgba(0, 0, 0, 0.15);\n",
              "      filter: drop-shadow(0px 1px 2px rgba(0, 0, 0, 0.3));\n",
              "      fill: #FFFFFF;\n",
              "    }\n",
              "  </style>\n",
              "\n",
              "      <script>\n",
              "        const buttonEl =\n",
              "          document.querySelector('#df-3736121a-a1c6-47c4-9fc8-54fe7acab3af button.colab-df-convert');\n",
              "        buttonEl.style.display =\n",
              "          google.colab.kernel.accessAllowed ? 'block' : 'none';\n",
              "\n",
              "        async function convertToInteractive(key) {\n",
              "          const element = document.querySelector('#df-3736121a-a1c6-47c4-9fc8-54fe7acab3af');\n",
              "          const dataTable =\n",
              "            await google.colab.kernel.invokeFunction('convertToInteractive',\n",
              "                                                     [key], {});\n",
              "          if (!dataTable) return;\n",
              "\n",
              "          const docLinkHtml = 'Like what you see? Visit the ' +\n",
              "            '<a target=\"_blank\" href=https://colab.research.google.com/notebooks/data_table.ipynb>data table notebook</a>'\n",
              "            + ' to learn more about interactive tables.';\n",
              "          element.innerHTML = '';\n",
              "          dataTable['output_type'] = 'display_data';\n",
              "          await google.colab.output.renderOutput(dataTable, element);\n",
              "          const docLink = document.createElement('div');\n",
              "          docLink.innerHTML = docLinkHtml;\n",
              "          element.appendChild(docLink);\n",
              "        }\n",
              "      </script>\n",
              "    </div>\n",
              "  </div>\n",
              "  "
            ]
          },
          "metadata": {},
          "execution_count": 56
        }
      ]
    },
    {
      "cell_type": "markdown",
      "source": [
        "# Money as a vector of wealth\n",
        "\n",
        "After the data cleaning, we can finally dive into the analyses itself. Let us first understand the sampling financial information, in other words, the amount of money per person. \n"
      ],
      "metadata": {
        "id": "YDiSle8YPRwm"
      }
    },
    {
      "cell_type": "code",
      "source": [
        "cad_unico['val_renda_bruta_12_meses_memb'].max()"
      ],
      "metadata": {
        "colab": {
          "base_uri": "https://localhost:8080/"
        },
        "id": "PPzlph6vQAAz",
        "outputId": "082581c9-701e-4062-fe0b-25f2bae9deae"
      },
      "execution_count": 57,
      "outputs": [
        {
          "output_type": "execute_result",
          "data": {
            "text/plain": [
              "96000.0"
            ]
          },
          "metadata": {},
          "execution_count": 57
        }
      ]
    },
    {
      "cell_type": "markdown",
      "source": [
        "As we can see, if we **only** look at the amount money received in the span of a year, the highest record in the sampling would be considered a wealthy person if compared to the mean of its country (R$ 30.840).\n",
        "\n",
        "We can not say otherwise (the lowest entry is a poor person), due to the fact that there are people in the sampling that are underage or retired, therefore, they have no jobs or the money they have come from different resources, like donating or retirement.\n",
        "\n",
        "In fact, in order to ensure that the sampling do not have distant values, we can calculate the standard deviation of it, in order to analyse how much the values differs from its mean.\n",
        "\n",
        "Let us first see what is the mean of what people receive"
      ],
      "metadata": {
        "id": "Azj9yp-AQjqa"
      }
    },
    {
      "cell_type": "code",
      "source": [
        "int(cad_unico['val_renda_bruta_12_meses_memb'].mean())\n"
      ],
      "metadata": {
        "colab": {
          "base_uri": "https://localhost:8080/"
        },
        "id": "haHyD9FuTgXZ",
        "outputId": "df688a99-89e3-4902-b022-fb2ded153579"
      },
      "execution_count": 64,
      "outputs": [
        {
          "output_type": "execute_result",
          "data": {
            "text/plain": [
              "5005"
            ]
          },
          "metadata": {},
          "execution_count": 64
        }
      ]
    },
    {
      "cell_type": "markdown",
      "source": [
        "Then, we calculate the standard deviation"
      ],
      "metadata": {
        "id": "gT9twJzrT3RO"
      }
    },
    {
      "cell_type": "code",
      "source": [
        "int(cad_unico['val_renda_bruta_12_meses_memb'].std())"
      ],
      "metadata": {
        "colab": {
          "base_uri": "https://localhost:8080/"
        },
        "id": "JjkOoLSrTLDy",
        "outputId": "20177c5c-4a51-4da1-8ec3-390012d11c4b"
      },
      "execution_count": 61,
      "outputs": [
        {
          "output_type": "execute_result",
          "data": {
            "text/plain": [
              "5546"
            ]
          },
          "metadata": {},
          "execution_count": 61
        }
      ]
    },
    {
      "cell_type": "markdown",
      "source": [
        "As we can see, the values are not that far from eachother. Over the period of a year, this would represent a monthly gap of R$ 462, on average."
      ],
      "metadata": {
        "id": "D9NxeJehTS50"
      }
    }
  ]
}